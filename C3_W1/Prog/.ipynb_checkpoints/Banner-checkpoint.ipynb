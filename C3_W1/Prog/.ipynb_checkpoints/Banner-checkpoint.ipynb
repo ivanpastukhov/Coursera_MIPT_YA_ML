{
 "cells": [
  {
   "cell_type": "markdown",
   "metadata": {},
   "source": [
    "#  Размещение баннеров\n",
    "\n",
    "## Машинное обучение и анализ данных\n",
    "### 3 курс, 1 неделя"
   ]
  },
  {
   "cell_type": "markdown",
   "metadata": {},
   "source": [
    "Задание\n",
    " Представим, что международное круизное агентство Carnival Cruise Line решило себя разрекламировать с помощью баннеров и обратилось для этого к вам. Чтобы протестировать, велика ли от таких баннеров польза, их будет размещено всего 20 штук по всему миру. Вам надо выбрать 20 таких локаций для размещения, чтобы польза была большой и агентство продолжило с вами сотрудничать.\n",
    "\n",
    "Агентство крупное, и у него есть несколько офисов по всему миру. Вблизи этих офисов оно и хочет разместить баннеры — легче договариваться и проверять результат. Также эти места должны быть популярны среди туристов.\n",
    "\n",
    "Для поиска оптимальных мест воспользуемся базой данных крупнейшей социальной сети, основанной на локациях — Foursquare.\n",
    "\n",
    "Часть открытых данных есть, например, на сайте archive.org:\n",
    "\n",
    "https://archive.org/details/201309_foursquare_dataset_umn\n",
    "\n",
    "Скачаем любым удобным образом архив fsq.zip с этой страницы.\n",
    "\n",
    "Нас будет интересовать файл checkins.dat. Открыв его, увидим следующую структуру:\n",
    "\n",
    "\n",
    "1\n",
    "2\n",
    "3\n",
    "4\n",
    "5\n",
    "6\n",
    "7\n",
    "8\n",
    "9\n",
    "10\n",
    "11\n",
    "12\n",
    "13\n",
    "id | user_id | venue_id | latitude | longitude | created_at\n",
    "---------+---------+----------+-------------------+-------------------+-----\n",
    "----------------\n",
    "984301 | 2041916 | 5222 | | | 2012-04-21 17:39:01\n",
    "984222 | 15824 | 5222 | 38.8951118 | -77.0363658 | 2012-04-21 17:43:47\n",
    "984315 | 1764391 | 5222 | | | 2012-04-21 17:37:18\n",
    "984234 | 44652 | 5222 | 33.800745 | -84.41052 | 2012-04-21 17:43:43\n",
    "...\n",
    "Для удобной работы с этим документом преобразуем его к формату csv, удалив строки, не содержащие координат — они неинформативны для нас:\n",
    "\n",
    "\n",
    "1\n",
    "2\n",
    "3\n",
    "4\n",
    "5\n",
    "6\n",
    "7\n",
    "8\n",
    "9\n",
    "id,user_id,venue_id,latitude,longitude,created_at\n",
    "984222,15824,5222,38.8951118,-77.0363658,2012-04-21T17:43:47\n",
    "984234,44652,5222,33.800745,-84.41052,2012-04-21T17:43:43\n",
    "984291,105054,5222,45.5234515,-122.6762071,2012-04-21T17:39:22\n",
    "...\n",
    "С помощью pandas построим DataFrame и убедимся, что все 396634 строки с координатами считаны успешно.\n",
    "\n",
    "Теперь необходимо кластеризовать данные координаты, чтобы выявить центры скоплений туристов. Поскольку баннеры имеют сравнительно небольшую площадь действия, нам нужен алгоритм, позволяющий ограничить размер кластера и не зависящий от количества кластеров.\n",
    "\n",
    "Эта задача — хороший повод познакомиться с алгоритмом MeanShift, который мы обошли стороной в основной части лекций. Его описание при желании можно посмотреть в sklearn user guide, а чуть позже появится дополнительное видео с обзором этого и некоторых других алгоритмов кластеризации. Используйте MeanShift, указав bandwidth=0.1, что в переводе из градусов в метры колеблется примерно от 5 до 10 км в средних широтах.\n",
    "\n",
    "Примечание: на 396634 строках кластеризация будет работать долго. Быть очень терпеливым не возбраняется — результат от этого только улучшится. Но для того, чтобы сдать задание, понадобится сабсет из первых 100 тысяч строк. Это компромисс между качеством и затраченным временем. Обучение алгоритма на всём датасете занимает около часа, а на 100 тыс. строк — примерно 2 минуты, однако этого достаточно для получения корректных результатов.\n",
    "\n",
    "Некоторые из получившихся кластеров содержат слишком мало точек — такие кластеры не интересны рекламодателям. Поэтому надо определить, какие из кластеров содержат, скажем, больше 15 элементов. Центры этих кластеров и являются оптимальными для размещения.\n",
    "\n",
    "При желании увидеть получившиеся результаты на карте можно передать центры получившихся кластеров в один из инструментов визуализации. Например, сайт mapcustomizer.com имеет функцию Bulk Entry, куда можно вставить центры полученных кластеров в формате:\n",
    "\n",
    "\n",
    "1\n",
    "2\n",
    "3\n",
    "4\n",
    "5\n",
    "6\n",
    "7\n",
    "38.8951118,-77.0363658\n",
    "33.800745,-84.41052\n",
    "45.5234515,-122.6762071\n",
    "...\n",
    "Как мы помним, 20 баннеров надо разместить близ офисов компании. Найдем на Google Maps по запросу Carnival Cruise Line адреса всех офисов:\n",
    "\n",
    "\n",
    "1\n",
    "2\n",
    "3\n",
    "4\n",
    "5\n",
    "6\n",
    "7\n",
    "8\n",
    "9\n",
    "10\n",
    "11\n",
    "33.751277, -118.188740 (Los Angeles)\n",
    "25.867736, -80.324116 (Miami)\n",
    "51.503016, -0.075479 (London)\n",
    "52.378894, 4.885084 (Amsterdam)\n",
    "39.366487, 117.036146 (Beijing)\n",
    "-33.868457, 151.205134 (Sydney)\n",
    "Осталось определить 20 ближайших к ним центров кластеров. Т.е. посчитать дистанцию до ближайшего офиса для каждой точки и выбрать 20 с наименьшим значением.\n",
    "\n",
    "Примечание: при подсчете расстояний и в кластеризации можно пренебречь тем, что Земля круглая, так как в точках, расположенных близко друг к другу погрешность мала, а в остальных точках значение достаточно велико.\n",
    "\n",
    "Для сдачи задания выберите из получившихся 20 центров тот, который наименее удален от ближайшего к нему офиса. Ответ в этом задании — широта и долгота этого центра, записанные через пробел.\n",
    "\n"
   ]
  },
  {
   "cell_type": "code",
   "execution_count": 1,
   "metadata": {},
   "outputs": [],
   "source": [
    "import pandas as pd\n",
    "import numpy as np\n",
    "from sklearn.cluster import MeanShift, estimate_bandwidth\n",
    "import seaborn as sns\n",
    "import matplotlib.pyplot as plt\n",
    "import re\n",
    "from numpy.linalg import norm"
   ]
  },
  {
   "cell_type": "code",
   "execution_count": 2,
   "metadata": {},
   "outputs": [
    {
     "name": "stderr",
     "output_type": "stream",
     "text": [
      "/Applications/anaconda/lib/python2.7/site-packages/IPython/core/interactiveshell.py:2717: DtypeWarning: Columns (0) have mixed types. Specify dtype option on import or set low_memory=False.\n",
      "  interactivity=interactivity, compiler=compiler, result=result)\n"
     ]
    }
   ],
   "source": [
    "df = pd.read_csv('checkins.dat', delimiter='|', skiprows=[1])"
   ]
  },
  {
   "cell_type": "code",
   "execution_count": 3,
   "metadata": {},
   "outputs": [
    {
     "name": "stdout",
     "output_type": "stream",
     "text": [
      "<class 'pandas.core.frame.DataFrame'>\n",
      "RangeIndex: 1021967 entries, 0 to 1021966\n",
      "Data columns (total 6 columns):\n",
      "   id                    1021967 non-null object\n",
      " user_id                 1021966 non-null float64\n",
      " venue_id                1021966 non-null float64\n",
      "     latitude            1021966 non-null object\n",
      "     longitude           1021966 non-null object\n",
      "     created_at          1021966 non-null object\n",
      "dtypes: float64(2), object(4)\n",
      "memory usage: 46.8+ MB\n"
     ]
    }
   ],
   "source": [
    "df.info()"
   ]
  },
  {
   "cell_type": "code",
   "execution_count": 4,
   "metadata": {
    "scrolled": true
   },
   "outputs": [],
   "source": [
    "# Deleting whitespaces\n",
    "df = df.iloc[:,[3,4]].apply(lambda x: x.str.strip())"
   ]
  },
  {
   "cell_type": "code",
   "execution_count": 5,
   "metadata": {},
   "outputs": [],
   "source": [
    "cols = ['Latitude','Longitude']\n",
    "df.columns = ['Latitude','Longitude']"
   ]
  },
  {
   "cell_type": "code",
   "execution_count": 6,
   "metadata": {},
   "outputs": [],
   "source": [
    "# Converting 'objects' to 'numeric' values with dropping NaN represented as whitespaces.\n",
    "df = df[cols].apply(lambda x: pd.to_numeric(x, errors='coerce'))\n",
    "df.dropna(inplace=True)"
   ]
  },
  {
   "cell_type": "code",
   "execution_count": 7,
   "metadata": {},
   "outputs": [
    {
     "name": "stdout",
     "output_type": "stream",
     "text": [
      "<class 'pandas.core.frame.DataFrame'>\n",
      "Int64Index: 396634 entries, 1 to 1021964\n",
      "Data columns (total 2 columns):\n",
      "Latitude     396634 non-null float64\n",
      "Longitude    396634 non-null float64\n",
      "dtypes: float64(2)\n",
      "memory usage: 9.1 MB\n"
     ]
    }
   ],
   "source": [
    "df.info()"
   ]
  },
  {
   "cell_type": "code",
   "execution_count": 8,
   "metadata": {},
   "outputs": [],
   "source": [
    "#cut off first 100,000 rows\n",
    "N_ROWS = 100000\n",
    "df = df.iloc[:N_ROWS,:]\n",
    "La = df.loc[:,'Latitude'].values.reshape(N_ROWS,1)\n",
    "Lo = df.loc[:,'Longitude'].values.reshape(N_ROWS,1)"
   ]
  },
  {
   "cell_type": "code",
   "execution_count": 9,
   "metadata": {},
   "outputs": [
    {
     "name": "stderr",
     "output_type": "stream",
     "text": [
      "/Applications/anaconda/lib/python2.7/site-packages/ipykernel_launcher.py:2: DeprecationWarning: This function is deprecated. Please call randint(0, 100000 + 1) instead\n",
      "  \n"
     ]
    },
    {
     "data": {
      "image/png": "[encoded data removed]",
      "text/plain": [
       "<matplotlib.figure.Figure at 0x119ace1d0>"
      ]
     },
     "metadata": {},
     "output_type": "display_data"
    }
   ],
   "source": [
    "#Plot represents set of  ~1/10 of data points\n",
    "random_IDXS = np.random.random_integers(0,df.shape[0], 10000)\n",
    "cmap = sns.cubehelix_palette(as_cmap=True, dark=0, light=1, reverse=True)\n",
    "jplot = sns.jointplot(cols[0], cols[1], df.iloc[random_IDXS,:], \n",
    "                     xlim=(20,60), ylim=(-50,-150), cmap = cmap, kind='kde', shade=True, n_levels=60)\n",
    "plt.show()"
   ]
  },
  {
   "cell_type": "code",
   "execution_count": 10,
   "metadata": {},
   "outputs": [],
   "source": [
    "X = np.array(df.loc[:,['Latitude','Longitude']])"
   ]
  },
  {
   "cell_type": "code",
   "execution_count": 11,
   "metadata": {},
   "outputs": [
    {
     "name": "stdout",
     "output_type": "stream",
     "text": [
      "CPU times: user 44.3 s, sys: 3.65 s, total: 47.9 s\n",
      "Wall time: 2min 5s\n"
     ]
    }
   ],
   "source": [
    "%%time\n",
    "estimator = MeanShift(bandwidth=0.1, n_jobs=(-1))\n",
    "estimator.fit(X)"
   ]
  },
  {
   "cell_type": "code",
   "execution_count": 12,
   "metadata": {},
   "outputs": [
    {
     "name": "stdout",
     "output_type": "stream",
     "text": [
      "Cluster centers:  (3230, 2)\n"
     ]
    }
   ],
   "source": [
    "print 'Cluster centers: ', estimator.cluster_centers_.shape\n",
    "df['cluster'] = estimator.labels_"
   ]
  },
  {
   "cell_type": "code",
   "execution_count": 13,
   "metadata": {},
   "outputs": [],
   "source": [
    "count_cluster_freq = df.iloc[:,2].value_counts()"
   ]
  },
  {
   "cell_type": "code",
   "execution_count": 28,
   "metadata": {},
   "outputs": [
    {
     "data": {
      "text/html": [
       "<div>\n",
       "<style>\n",
       "    .dataframe thead tr:only-child th {\n",
       "        text-align: right;\n",
       "    }\n",
       "\n",
       "    .dataframe thead th {\n",
       "        text-align: left;\n",
       "    }\n",
       "\n",
       "    .dataframe tbody tr th {\n",
       "        vertical-align: top;\n",
       "    }\n",
       "</style>\n",
       "<table border=\"1\" class=\"dataframe\">\n",
       "  <thead>\n",
       "    <tr style=\"text-align: right;\">\n",
       "      <th></th>\n",
       "      <th>Latitude</th>\n",
       "      <th>Longitude</th>\n",
       "      <th>cluster</th>\n",
       "      <th>cluster_freq</th>\n",
       "      <th>cluster_cntr_lati</th>\n",
       "      <th>cluster_cntr_long</th>\n",
       "    </tr>\n",
       "  </thead>\n",
       "  <tbody>\n",
       "    <tr>\n",
       "      <th>1</th>\n",
       "      <td>38.895112</td>\n",
       "      <td>-77.036366</td>\n",
       "      <td>5</td>\n",
       "      <td>2409</td>\n",
       "      <td>38.886165</td>\n",
       "      <td>-77.048783</td>\n",
       "    </tr>\n",
       "    <tr>\n",
       "      <th>3</th>\n",
       "      <td>33.800745</td>\n",
       "      <td>-84.410520</td>\n",
       "      <td>7</td>\n",
       "      <td>1601</td>\n",
       "      <td>33.766636</td>\n",
       "      <td>-84.393289</td>\n",
       "    </tr>\n",
       "    <tr>\n",
       "      <th>7</th>\n",
       "      <td>45.523452</td>\n",
       "      <td>-122.676207</td>\n",
       "      <td>30</td>\n",
       "      <td>594</td>\n",
       "      <td>45.523483</td>\n",
       "      <td>-122.676280</td>\n",
       "    </tr>\n",
       "    <tr>\n",
       "      <th>9</th>\n",
       "      <td>40.764462</td>\n",
       "      <td>-111.904565</td>\n",
       "      <td>66</td>\n",
       "      <td>186</td>\n",
       "      <td>40.759600</td>\n",
       "      <td>-111.896078</td>\n",
       "    </tr>\n",
       "    <tr>\n",
       "      <th>10</th>\n",
       "      <td>33.448377</td>\n",
       "      <td>-112.074037</td>\n",
       "      <td>1</td>\n",
       "      <td>4692</td>\n",
       "      <td>33.449438</td>\n",
       "      <td>-112.002140</td>\n",
       "    </tr>\n",
       "  </tbody>\n",
       "</table>\n",
       "</div>"
      ],
      "text/plain": [
       "     Latitude   Longitude  cluster  cluster_freq  cluster_cntr_lati  \\\n",
       "1   38.895112  -77.036366        5          2409          38.886165   \n",
       "3   33.800745  -84.410520        7          1601          33.766636   \n",
       "7   45.523452 -122.676207       30           594          45.523483   \n",
       "9   40.764462 -111.904565       66           186          40.759600   \n",
       "10  33.448377 -112.074037        1          4692          33.449438   \n",
       "\n",
       "    cluster_cntr_long  \n",
       "1          -77.048783  \n",
       "3          -84.393289  \n",
       "7         -122.676280  \n",
       "9         -111.896078  \n",
       "10        -112.002140  "
      ]
     },
     "execution_count": 28,
     "metadata": {},
     "output_type": "execute_result"
    }
   ],
   "source": [
    "df['cluster_freq']      = [count_cluster_freq[cluster_ID]            for i, cluster_ID in enumerate(df['cluster'])]\n",
    "df['cluster_cntr_lati'] = [estimator.cluster_centers_[cluster_ID][0] for i, cluster_ID in enumerate(df['cluster'])]\n",
    "df['cluster_cntr_long'] = [estimator.cluster_centers_[cluster_ID][1] for i, cluster_ID in enumerate(df['cluster'])]\n",
    " \n",
    "df = df[df.cluster_freq > 15]\n",
    "df.head()"
   ]
  },
  {
   "cell_type": "markdown",
   "metadata": {},
   "source": [
    "## Carnival Cruise Line offices:\n",
    "33.751277, -118.188740,Los Angeles\n",
    "\n",
    "25.867736, -80.324116,Miami\n",
    "\n",
    "51.503016, -0.075479,London\n",
    "\n",
    "52.378894, 4.885084,Amsterdam\n",
    "\n",
    "39.366487, 117.036146,Beijing\n",
    "\n",
    "-33.868457, 151.205134,Sydney"
   ]
  },
  {
   "cell_type": "code",
   "execution_count": 15,
   "metadata": {},
   "outputs": [],
   "source": [
    "# Create dictionary with coordinates of the offices from clipboard:\n",
    "#df_offices = pd.read_clipboard(names = ['Latitude', 'Longitude', 'City'], delimiter = (','))\n",
    "#df_offices.to_csv('df_offices.csv')"
   ]
  },
  {
   "cell_type": "code",
   "execution_count": 16,
   "metadata": {
    "collapsed": true
   },
   "outputs": [],
   "source": [
    "df_offices = pd.read_csv('df_offices.csv')"
   ]
  },
  {
   "cell_type": "code",
   "execution_count": 17,
   "metadata": {},
   "outputs": [
    {
     "data": {
      "text/html": [
       "<div>\n",
       "<style>\n",
       "    .dataframe thead tr:only-child th {\n",
       "        text-align: right;\n",
       "    }\n",
       "\n",
       "    .dataframe thead th {\n",
       "        text-align: left;\n",
       "    }\n",
       "\n",
       "    .dataframe tbody tr th {\n",
       "        vertical-align: top;\n",
       "    }\n",
       "</style>\n",
       "<table border=\"1\" class=\"dataframe\">\n",
       "  <thead>\n",
       "    <tr style=\"text-align: right;\">\n",
       "      <th></th>\n",
       "      <th>Latitude</th>\n",
       "      <th>Longitude</th>\n",
       "    </tr>\n",
       "    <tr>\n",
       "      <th>City</th>\n",
       "      <th></th>\n",
       "      <th></th>\n",
       "    </tr>\n",
       "  </thead>\n",
       "  <tbody>\n",
       "    <tr>\n",
       "      <th>Los Angeles</th>\n",
       "      <td>33.751277</td>\n",
       "      <td>-118.188740</td>\n",
       "    </tr>\n",
       "    <tr>\n",
       "      <th>Miami</th>\n",
       "      <td>25.867736</td>\n",
       "      <td>-80.324116</td>\n",
       "    </tr>\n",
       "    <tr>\n",
       "      <th>London</th>\n",
       "      <td>51.503016</td>\n",
       "      <td>-0.075479</td>\n",
       "    </tr>\n",
       "    <tr>\n",
       "      <th>Amsterdam</th>\n",
       "      <td>52.378894</td>\n",
       "      <td>4.885084</td>\n",
       "    </tr>\n",
       "    <tr>\n",
       "      <th>Beijing</th>\n",
       "      <td>39.366487</td>\n",
       "      <td>117.036146</td>\n",
       "    </tr>\n",
       "    <tr>\n",
       "      <th>Sydney</th>\n",
       "      <td>-33.868457</td>\n",
       "      <td>151.205134</td>\n",
       "    </tr>\n",
       "  </tbody>\n",
       "</table>\n",
       "</div>"
      ],
      "text/plain": [
       "              Latitude   Longitude\n",
       "City                              \n",
       "Los Angeles  33.751277 -118.188740\n",
       "Miami        25.867736  -80.324116\n",
       "London       51.503016   -0.075479\n",
       "Amsterdam    52.378894    4.885084\n",
       "Beijing      39.366487  117.036146\n",
       "Sydney      -33.868457  151.205134"
      ]
     },
     "execution_count": 17,
     "metadata": {},
     "output_type": "execute_result"
    }
   ],
   "source": [
    "df_offices.drop(['Unnamed: 0'], axis=1, inplace=True)\n",
    "df_offices.set_index(\"City\", inplace=True)\n",
    "#df_tr = df_offices.transpose()\n",
    "#df_tr.columns = df_tr.iloc[-1,:]\n",
    "#df_tr.drop('City', inplace=True)\n",
    "#df_tr.transpose()\n",
    "df_offices"
   ]
  },
  {
   "cell_type": "code",
   "execution_count": 31,
   "metadata": {},
   "outputs": [],
   "source": [
    "vec_city = [np.array([df.iloc[index,0], df.iloc[index,1]]) for index, value in enumerate(df.Latitude)]\n",
    "for _, city in enumerate(df_offices.index):\n",
    "    crd_city = np.array([df_offices.loc[city, 'Latitude'],df_offices.loc[city, 'Longitude']])\n",
    "    distances = [norm(crd_city - value, ord=2) for _, value in enumerate(vec_city)]\n",
    "    df[city] = distances"
   ]
  },
  {
   "cell_type": "code",
   "execution_count": 33,
   "metadata": {},
   "outputs": [
    {
     "data": {
      "text/html": [
       "<div>\n",
       "<style>\n",
       "    .dataframe thead tr:only-child th {\n",
       "        text-align: right;\n",
       "    }\n",
       "\n",
       "    .dataframe thead th {\n",
       "        text-align: left;\n",
       "    }\n",
       "\n",
       "    .dataframe tbody tr th {\n",
       "        vertical-align: top;\n",
       "    }\n",
       "</style>\n",
       "<table border=\"1\" class=\"dataframe\">\n",
       "  <thead>\n",
       "    <tr style=\"text-align: right;\">\n",
       "      <th></th>\n",
       "      <th>Latitude</th>\n",
       "      <th>Longitude</th>\n",
       "      <th>cluster</th>\n",
       "      <th>cluster_freq</th>\n",
       "      <th>cluster_cntr_lati</th>\n",
       "      <th>cluster_cntr_long</th>\n",
       "      <th>Los Angeles</th>\n",
       "      <th>Miami</th>\n",
       "      <th>London</th>\n",
       "      <th>Amsterdam</th>\n",
       "      <th>Beijing</th>\n",
       "      <th>Sydney</th>\n",
       "    </tr>\n",
       "  </thead>\n",
       "  <tbody>\n",
       "    <tr>\n",
       "      <th>1</th>\n",
       "      <td>38.895112</td>\n",
       "      <td>-77.036366</td>\n",
       "      <td>5</td>\n",
       "      <td>2409</td>\n",
       "      <td>38.886165</td>\n",
       "      <td>-77.048783</td>\n",
       "      <td>41.472605</td>\n",
       "      <td>13.435841</td>\n",
       "      <td>77.986777</td>\n",
       "      <td>83.023709</td>\n",
       "      <td>194.073084</td>\n",
       "      <td>239.559427</td>\n",
       "    </tr>\n",
       "    <tr>\n",
       "      <th>3</th>\n",
       "      <td>33.800745</td>\n",
       "      <td>-84.410520</td>\n",
       "      <td>7</td>\n",
       "      <td>1601</td>\n",
       "      <td>33.766636</td>\n",
       "      <td>-84.393289</td>\n",
       "      <td>33.778256</td>\n",
       "      <td>8.923639</td>\n",
       "      <td>86.172905</td>\n",
       "      <td>91.207744</td>\n",
       "      <td>201.523539</td>\n",
       "      <td>245.140485</td>\n",
       "    </tr>\n",
       "    <tr>\n",
       "      <th>7</th>\n",
       "      <td>45.523452</td>\n",
       "      <td>-122.676207</td>\n",
       "      <td>30</td>\n",
       "      <td>594</td>\n",
       "      <td>45.523483</td>\n",
       "      <td>-122.676280</td>\n",
       "      <td>12.598470</td>\n",
       "      <td>46.690971</td>\n",
       "      <td>122.746461</td>\n",
       "      <td>127.745372</td>\n",
       "      <td>239.791410</td>\n",
       "      <td>285.156210</td>\n",
       "    </tr>\n",
       "    <tr>\n",
       "      <th>9</th>\n",
       "      <td>40.764462</td>\n",
       "      <td>-111.904565</td>\n",
       "      <td>66</td>\n",
       "      <td>186</td>\n",
       "      <td>40.759600</td>\n",
       "      <td>-111.896078</td>\n",
       "      <td>9.416773</td>\n",
       "      <td>34.917577</td>\n",
       "      <td>112.343496</td>\n",
       "      <td>117.365741</td>\n",
       "      <td>228.944979</td>\n",
       "      <td>273.490011</td>\n",
       "    </tr>\n",
       "    <tr>\n",
       "      <th>10</th>\n",
       "      <td>33.448377</td>\n",
       "      <td>-112.074037</td>\n",
       "      <td>1</td>\n",
       "      <td>4692</td>\n",
       "      <td>33.449438</td>\n",
       "      <td>-112.002140</td>\n",
       "      <td>6.122200</td>\n",
       "      <td>32.642359</td>\n",
       "      <td>113.444467</td>\n",
       "      <td>118.481224</td>\n",
       "      <td>229.186605</td>\n",
       "      <td>271.748925</td>\n",
       "    </tr>\n",
       "  </tbody>\n",
       "</table>\n",
       "</div>"
      ],
      "text/plain": [
       "     Latitude   Longitude  cluster  cluster_freq  cluster_cntr_lati  \\\n",
       "1   38.895112  -77.036366        5          2409          38.886165   \n",
       "3   33.800745  -84.410520        7          1601          33.766636   \n",
       "7   45.523452 -122.676207       30           594          45.523483   \n",
       "9   40.764462 -111.904565       66           186          40.759600   \n",
       "10  33.448377 -112.074037        1          4692          33.449438   \n",
       "\n",
       "    cluster_cntr_long  Los Angeles      Miami      London   Amsterdam  \\\n",
       "1          -77.048783    41.472605  13.435841   77.986777   83.023709   \n",
       "3          -84.393289    33.778256   8.923639   86.172905   91.207744   \n",
       "7         -122.676280    12.598470  46.690971  122.746461  127.745372   \n",
       "9         -111.896078     9.416773  34.917577  112.343496  117.365741   \n",
       "10        -112.002140     6.122200  32.642359  113.444467  118.481224   \n",
       "\n",
       "       Beijing      Sydney  \n",
       "1   194.073084  239.559427  \n",
       "3   201.523539  245.140485  \n",
       "7   239.791410  285.156210  \n",
       "9   228.944979  273.490011  \n",
       "10  229.186605  271.748925  "
      ]
     },
     "execution_count": 33,
     "metadata": {},
     "output_type": "execute_result"
    }
   ],
   "source": [
    "df.head()"
   ]
  },
  {
   "cell_type": "code",
   "execution_count": 47,
   "metadata": {},
   "outputs": [],
   "source": [
    "min_distances = np.min(df.loc[:,'Los Angeles':])"
   ]
  },
  {
   "cell_type": "code",
   "execution_count": 50,
   "metadata": {},
   "outputs": [
    {
     "data": {
      "text/plain": [
       "'Miami'"
      ]
     },
     "execution_count": 50,
     "metadata": {},
     "output_type": "execute_result"
    }
   ],
   "source": [
    "office_w_min_dist_to_bbrd = np.argmin(min_distances)\n",
    "office_w_min_dist_to_bbrd"
   ]
  },
  {
   "cell_type": "code",
   "execution_count": 53,
   "metadata": {},
   "outputs": [],
   "source": [
    "index = np.argmin(df[office_w_min_dist_to_bbrd])"
   ]
  },
  {
   "cell_type": "code",
   "execution_count": 66,
   "metadata": {},
   "outputs": [
    {
     "data": {
      "text/plain": [
       "numpy.ndarray"
      ]
     },
     "execution_count": 66,
     "metadata": {},
     "output_type": "execute_result"
    }
   ],
   "source": [
    "answer = df.iloc[index, [0,1]].values\n",
    "type(answer)"
   ]
  },
  {
   "cell_type": "code",
   "execution_count": 67,
   "metadata": {
    "collapsed": true
   },
   "outputs": [],
   "source": [
    "def write_ans(ans, name):\n",
    "    with open (name, 'w') as fout:\n",
    "        fout.write(str(ans))\n",
    "        fout.close"
   ]
  },
  {
   "cell_type": "code",
   "execution_count": 69,
   "metadata": {},
   "outputs": [],
   "source": [
    "write_ans(answer, 'ans.txt')"
   ]
  },
  {
   "cell_type": "code",
   "execution_count": 65,
   "metadata": {},
   "outputs": [
    {
     "data": {
      "text/plain": [
       "array([  33.4941704, -111.9260519])"
      ]
     },
     "execution_count": 65,
     "metadata": {},
     "output_type": "execute_result"
    }
   ],
   "source": [
    "answer.values"
   ]
  },
  {
   "cell_type": "code",
   "execution_count": null,
   "metadata": {
    "collapsed": true
   },
   "outputs": [],
   "source": []
  }
 ],
 "metadata": {
  "kernelspec": {
   "display_name": "Python 2",
   "language": "python",
   "name": "python2"
  },
  "language_info": {
   "codemirror_mode": {
    "name": "ipython",
    "version": 2
   },
   "file_extension": ".py",
   "mimetype": "text/x-python",
   "name": "python",
   "nbconvert_exporter": "python",
   "pygments_lexer": "ipython2",
   "version": "2.7.13"
  }
 },
 "nbformat": 4,
 "nbformat_minor": 2
}
